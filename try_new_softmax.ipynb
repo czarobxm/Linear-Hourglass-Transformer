{
 "cells": [
  {
   "cell_type": "code",
   "execution_count": 1,
   "metadata": {},
   "outputs": [],
   "source": [
    "import torch\n",
    "from torch import nn"
   ]
  },
  {
   "cell_type": "code",
   "execution_count": 2,
   "metadata": {},
   "outputs": [],
   "source": [
    "class ApproximateSoftmax(nn.Module):\n",
    "    def __init__(self):\n",
    "        super().__init__()\n",
    "\n",
    "    def forward(self, x):\n",
    "        cumsum = torch.cumsum(x, dim=0)\n",
    "        is_positive = cumsum > 0\n",
    "        ones = torch.ones_like(x)\n",
    "        ones[~is_positive] = -1\n",
    "\n",
    "        x = torch.exp(x * ones)\n",
    "\n",
    "        x = torch.sqrt(torch.tensor([1/2])) * x + 1 \n",
    "\n",
    "        return x / torch.sum(x)"
   ]
  },
  {
   "cell_type": "code",
   "execution_count": 10,
   "metadata": {},
   "outputs": [],
   "source": [
    "softmax = torch.nn.Softmax()\n",
    "approx_softmax = ApproximateSoftmax()\n",
    "\n",
    "x = torch.tensor([5.0, 2.0, 3.0, 10.0])"
   ]
  },
  {
   "cell_type": "code",
   "execution_count": 11,
   "metadata": {},
   "outputs": [
    {
     "name": "stdout",
     "output_type": "stream",
     "text": [
      "tensor([6.6846e-03, 3.3281e-04, 9.0466e-04, 9.9208e-01])\n",
      "tensor([6.7465e-03, 3.9640e-04, 9.6811e-04, 9.9189e-01])\n"
     ]
    }
   ],
   "source": [
    "print(softmax(x))\n",
    "print(approx_softmax(x))"
   ]
  },
  {
   "cell_type": "code",
   "execution_count": null,
   "metadata": {},
   "outputs": [],
   "source": []
  },
  {
   "cell_type": "code",
   "execution_count": null,
   "metadata": {},
   "outputs": [],
   "source": []
  },
  {
   "cell_type": "code",
   "execution_count": 5,
   "metadata": {},
   "outputs": [],
   "source": [
    "approx_softmax = ApproximateSoftmax()\n"
   ]
  }
 ],
 "metadata": {
  "kernelspec": {
   "display_name": ".venv",
   "language": "python",
   "name": "python3"
  },
  "language_info": {
   "codemirror_mode": {
    "name": "ipython",
    "version": 3
   },
   "file_extension": ".py",
   "mimetype": "text/x-python",
   "name": "python",
   "nbconvert_exporter": "python",
   "pygments_lexer": "ipython3",
   "version": "3.11.7"
  },
  "orig_nbformat": 4
 },
 "nbformat": 4,
 "nbformat_minor": 2
}
